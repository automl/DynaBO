{
 "cells": [
  {
   "cell_type": "code",
   "execution_count": 1,
   "metadata": {},
   "outputs": [],
   "source": [
    "import matplotlib.pyplot as plt\n",
    "import pandas as pd\n",
    "import numpy as np\n",
    "from py_experimenter.experimenter import PyExperimenter"
   ]
  },
  {
   "cell_type": "markdown",
   "metadata": {},
   "source": [
    "# Get Data From DataBase"
   ]
  },
  {
   "cell_type": "code",
   "execution_count": 2,
   "metadata": {},
   "outputs": [],
   "source": [
    "baseline_config_path = \"dynabo/experiments/baseline_experiments/config.yml\"\n",
    "prior_config_path = \"dynabo/experiments/prior_experiments/config.yml\"\n",
    "credentials_path = \"config/database_credentials.yml\""
   ]
  },
  {
   "cell_type": "code",
   "execution_count": 3,
   "metadata": {},
   "outputs": [
    {
     "name": "stderr",
     "output_type": "stream",
     "text": [
      "2025-01-20 16:26:12,127  | py-experimenter - INFO     | Found 9 keyfields\n",
      "2025-01-20 16:26:12,130  | py-experimenter - INFO     | Found 7 resultfields\n",
      "2025-01-20 16:26:12,131  | py-experimenter - INFO     | Found 1 logtables\n",
      "2025-01-20 16:26:12,132  | py-experimenter - INFO     | Found logtable baseline__incumbents\n",
      "2025-01-20 16:26:12,133  | py-experimenter - WARNING  | No custom section defined in config\n",
      "2025-01-20 16:26:12,134  | py-experimenter - WARNING  | No codecarbon section defined in config\n",
      "2025-01-20 16:26:12,142  | py-experimenter - INFO     | Initialized and connected to database\n"
     ]
    },
    {
     "name": "stderr",
     "output_type": "stream",
     "text": [
      "2025-01-20 16:26:12,175  | py-experimenter - INFO     | Found 13 keyfields\n",
      "2025-01-20 16:26:12,177  | py-experimenter - INFO     | Found 7 resultfields\n",
      "2025-01-20 16:26:12,178  | py-experimenter - INFO     | Found 2 logtables\n",
      "2025-01-20 16:26:12,179  | py-experimenter - INFO     | Found logtable dynamic_prior_dev__incumbents\n",
      "2025-01-20 16:26:12,180  | py-experimenter - INFO     | Found logtable dynamic_prior_dev__priors\n",
      "2025-01-20 16:26:12,180  | py-experimenter - WARNING  | No custom section defined in config\n",
      "2025-01-20 16:26:12,181  | py-experimenter - WARNING  | No codecarbon section defined in config\n",
      "2025-01-20 16:26:12,189  | py-experimenter - INFO     | Initialized and connected to database\n"
     ]
    }
   ],
   "source": [
    "baseline_experimenter = PyExperimenter(baseline_config_path, credentials_path)\n",
    "prior_experimenter = PyExperimenter(prior_config_path, credentials_path)"
   ]
  },
  {
   "cell_type": "code",
   "execution_count": 4,
   "metadata": {},
   "outputs": [],
   "source": [
    "baseline_incumbent_df = baseline_experimenter.get_logtable(\"incumbents\")\n",
    "prior_incumbent_df = prior_experimenter.get_logtable(\"incumbents\")\n",
    "prior_priors_df = prior_experimenter.get_logtable(\"priors\")"
   ]
  },
  {
   "cell_type": "code",
   "execution_count": 5,
   "metadata": {},
   "outputs": [
    {
     "data": {
      "text/html": [
       "<div>\n",
       "<style scoped>\n",
       "    .dataframe tbody tr th:only-of-type {\n",
       "        vertical-align: middle;\n",
       "    }\n",
       "\n",
       "    .dataframe tbody tr th {\n",
       "        vertical-align: top;\n",
       "    }\n",
       "\n",
       "    .dataframe thead th {\n",
       "        text-align: right;\n",
       "    }\n",
       "</style>\n",
       "<table border=\"1\" class=\"dataframe\">\n",
       "  <thead>\n",
       "    <tr style=\"text-align: right;\">\n",
       "      <th></th>\n",
       "      <th>ID</th>\n",
       "      <th>experiment_id</th>\n",
       "      <th>timestamp</th>\n",
       "      <th>performance</th>\n",
       "      <th>configuration</th>\n",
       "      <th>after_n_evaluations</th>\n",
       "      <th>after_runtime</th>\n",
       "      <th>after_virtual_runtime</th>\n",
       "      <th>after_reasoning_runtime</th>\n",
       "    </tr>\n",
       "  </thead>\n",
       "  <tbody>\n",
       "    <tr>\n",
       "      <th>0</th>\n",
       "      <td>1</td>\n",
       "      <td>1</td>\n",
       "      <td>2025-01-20 11:08:21</td>\n",
       "      <td>0.822191</td>\n",
       "      <td>{'min.node.size': 27, 'mtry.power': 0.62056469...</td>\n",
       "      <td>1</td>\n",
       "      <td>31.264</td>\n",
       "      <td>31.266</td>\n",
       "      <td>0.002</td>\n",
       "    </tr>\n",
       "    <tr>\n",
       "      <th>1</th>\n",
       "      <td>2</td>\n",
       "      <td>2</td>\n",
       "      <td>2025-01-20 11:08:21</td>\n",
       "      <td>0.829881</td>\n",
       "      <td>{'min.node.size': 41, 'mtry.power': 0.92743327...</td>\n",
       "      <td>1</td>\n",
       "      <td>110.165</td>\n",
       "      <td>110.167</td>\n",
       "      <td>0.002</td>\n",
       "    </tr>\n",
       "    <tr>\n",
       "      <th>2</th>\n",
       "      <td>3</td>\n",
       "      <td>1</td>\n",
       "      <td>2025-01-20 11:08:21</td>\n",
       "      <td>0.831120</td>\n",
       "      <td>{'min.node.size': 78, 'mtry.power': 0.03243755...</td>\n",
       "      <td>2</td>\n",
       "      <td>46.971</td>\n",
       "      <td>47.318</td>\n",
       "      <td>0.347</td>\n",
       "    </tr>\n",
       "    <tr>\n",
       "      <th>3</th>\n",
       "      <td>4</td>\n",
       "      <td>1</td>\n",
       "      <td>2025-01-20 11:08:21</td>\n",
       "      <td>0.833909</td>\n",
       "      <td>{'min.node.size': 65, 'mtry.power': 0.95718002...</td>\n",
       "      <td>3</td>\n",
       "      <td>117.559</td>\n",
       "      <td>118.074</td>\n",
       "      <td>0.515</td>\n",
       "    </tr>\n",
       "    <tr>\n",
       "      <th>4</th>\n",
       "      <td>5</td>\n",
       "      <td>2</td>\n",
       "      <td>2025-01-20 11:08:22</td>\n",
       "      <td>0.833272</td>\n",
       "      <td>{'min.node.size': 7, 'mtry.power': 0.621135525...</td>\n",
       "      <td>5</td>\n",
       "      <td>210.588</td>\n",
       "      <td>211.464</td>\n",
       "      <td>0.876</td>\n",
       "    </tr>\n",
       "  </tbody>\n",
       "</table>\n",
       "</div>"
      ],
      "text/plain": [
       "   ID  experiment_id           timestamp  performance  \\\n",
       "0   1              1 2025-01-20 11:08:21     0.822191   \n",
       "1   2              2 2025-01-20 11:08:21     0.829881   \n",
       "2   3              1 2025-01-20 11:08:21     0.831120   \n",
       "3   4              1 2025-01-20 11:08:21     0.833909   \n",
       "4   5              2 2025-01-20 11:08:22     0.833272   \n",
       "\n",
       "                                       configuration  after_n_evaluations  \\\n",
       "0  {'min.node.size': 27, 'mtry.power': 0.62056469...                    1   \n",
       "1  {'min.node.size': 41, 'mtry.power': 0.92743327...                    1   \n",
       "2  {'min.node.size': 78, 'mtry.power': 0.03243755...                    2   \n",
       "3  {'min.node.size': 65, 'mtry.power': 0.95718002...                    3   \n",
       "4  {'min.node.size': 7, 'mtry.power': 0.621135525...                    5   \n",
       "\n",
       "   after_runtime  after_virtual_runtime  after_reasoning_runtime  \n",
       "0         31.264                 31.266                    0.002  \n",
       "1        110.165                110.167                    0.002  \n",
       "2         46.971                 47.318                    0.347  \n",
       "3        117.559                118.074                    0.515  \n",
       "4        210.588                211.464                    0.876  "
      ]
     },
     "execution_count": 5,
     "metadata": {},
     "output_type": "execute_result"
    }
   ],
   "source": [
    "baseline_incumbent_df.head()"
   ]
  },
  {
   "cell_type": "code",
   "execution_count": 6,
   "metadata": {},
   "outputs": [
    {
     "data": {
      "text/html": [
       "<div>\n",
       "<style scoped>\n",
       "    .dataframe tbody tr th:only-of-type {\n",
       "        vertical-align: middle;\n",
       "    }\n",
       "\n",
       "    .dataframe tbody tr th {\n",
       "        vertical-align: top;\n",
       "    }\n",
       "\n",
       "    .dataframe thead th {\n",
       "        text-align: right;\n",
       "    }\n",
       "</style>\n",
       "<table border=\"1\" class=\"dataframe\">\n",
       "  <thead>\n",
       "    <tr style=\"text-align: right;\">\n",
       "      <th></th>\n",
       "      <th>ID</th>\n",
       "      <th>experiment_id</th>\n",
       "      <th>timestamp</th>\n",
       "      <th>prior_accepted</th>\n",
       "      <th>performance</th>\n",
       "      <th>configuration</th>\n",
       "      <th>after_n_evaluations</th>\n",
       "      <th>after_runtime</th>\n",
       "      <th>after_virtual_runtime</th>\n",
       "      <th>after_reasoning_runtime</th>\n",
       "    </tr>\n",
       "  </thead>\n",
       "  <tbody>\n",
       "    <tr>\n",
       "      <th>0</th>\n",
       "      <td>1</td>\n",
       "      <td>4</td>\n",
       "      <td>2025-01-20 16:18:14</td>\n",
       "      <td>1</td>\n",
       "      <td>0.855388</td>\n",
       "      <td>{'min.node.size': 3, 'mtry.power': 0.330893147...</td>\n",
       "      <td>50</td>\n",
       "      <td>957.715</td>\n",
       "      <td>961.232</td>\n",
       "      <td>3.517</td>\n",
       "    </tr>\n",
       "    <tr>\n",
       "      <th>1</th>\n",
       "      <td>2</td>\n",
       "      <td>2</td>\n",
       "      <td>2025-01-20 16:18:15</td>\n",
       "      <td>1</td>\n",
       "      <td>0.863989</td>\n",
       "      <td>{'min.node.size': 1, 'mtry.power': 0.419652317...</td>\n",
       "      <td>50</td>\n",
       "      <td>1620.440</td>\n",
       "      <td>1625.010</td>\n",
       "      <td>4.565</td>\n",
       "    </tr>\n",
       "    <tr>\n",
       "      <th>2</th>\n",
       "      <td>3</td>\n",
       "      <td>1</td>\n",
       "      <td>2025-01-20 16:18:16</td>\n",
       "      <td>1</td>\n",
       "      <td>0.864068</td>\n",
       "      <td>{'min.node.size': 1, 'mtry.power': 0.422882644...</td>\n",
       "      <td>50</td>\n",
       "      <td>950.318</td>\n",
       "      <td>954.964</td>\n",
       "      <td>4.646</td>\n",
       "    </tr>\n",
       "    <tr>\n",
       "      <th>3</th>\n",
       "      <td>4</td>\n",
       "      <td>3</td>\n",
       "      <td>2025-01-20 16:18:16</td>\n",
       "      <td>1</td>\n",
       "      <td>0.864276</td>\n",
       "      <td>{'min.node.size': 1, 'mtry.power': 0.403489448...</td>\n",
       "      <td>50</td>\n",
       "      <td>1009.540</td>\n",
       "      <td>1014.970</td>\n",
       "      <td>5.430</td>\n",
       "    </tr>\n",
       "    <tr>\n",
       "      <th>4</th>\n",
       "      <td>5</td>\n",
       "      <td>5</td>\n",
       "      <td>2025-01-20 16:18:17</td>\n",
       "      <td>1</td>\n",
       "      <td>0.863996</td>\n",
       "      <td>{'min.node.size': 1, 'mtry.power': 0.420304970...</td>\n",
       "      <td>50</td>\n",
       "      <td>1974.400</td>\n",
       "      <td>1980.060</td>\n",
       "      <td>5.658</td>\n",
       "    </tr>\n",
       "  </tbody>\n",
       "</table>\n",
       "</div>"
      ],
      "text/plain": [
       "   ID  experiment_id           timestamp  prior_accepted  performance  \\\n",
       "0   1              4 2025-01-20 16:18:14               1     0.855388   \n",
       "1   2              2 2025-01-20 16:18:15               1     0.863989   \n",
       "2   3              1 2025-01-20 16:18:16               1     0.864068   \n",
       "3   4              3 2025-01-20 16:18:16               1     0.864276   \n",
       "4   5              5 2025-01-20 16:18:17               1     0.863996   \n",
       "\n",
       "                                       configuration  after_n_evaluations  \\\n",
       "0  {'min.node.size': 3, 'mtry.power': 0.330893147...                   50   \n",
       "1  {'min.node.size': 1, 'mtry.power': 0.419652317...                   50   \n",
       "2  {'min.node.size': 1, 'mtry.power': 0.422882644...                   50   \n",
       "3  {'min.node.size': 1, 'mtry.power': 0.403489448...                   50   \n",
       "4  {'min.node.size': 1, 'mtry.power': 0.420304970...                   50   \n",
       "\n",
       "   after_runtime  after_virtual_runtime  after_reasoning_runtime  \n",
       "0        957.715                961.232                    3.517  \n",
       "1       1620.440               1625.010                    4.565  \n",
       "2        950.318                954.964                    4.646  \n",
       "3       1009.540               1014.970                    5.430  \n",
       "4       1974.400               1980.060                    5.658  "
      ]
     },
     "execution_count": 6,
     "metadata": {},
     "output_type": "execute_result"
    }
   ],
   "source": [
    "prior_priors_df.head()"
   ]
  },
  {
   "cell_type": "code",
   "execution_count": 7,
   "metadata": {},
   "outputs": [],
   "source": [
    "def find_last(df: pd.DataFrame, experiment_id: int, column: str, current: int):\n",
    "    last_trial = df[(df[\"experiment_id\"] == experiment_id) & (df[column] < current)]\n",
    "    if len(last_trial) == 0:\n",
    "        raise ValueError(\"No previous trial found\")\n",
    "    else:\n",
    "        last_column_value = df[(df[\"experiment_id\"] == experiment_id) & (df[column] < current)][column].max()\n",
    "        df = df[(df[\"experiment_id\"] == experiment_id) & (df[column] == last_column_value)]\n",
    "        return df\n",
    "\n",
    "\n",
    "def fill_df(iterator_df: pd.DataFrame, max_trials=200, x_axis_column: str = \"after_n_evaluations\"):\n",
    "    rows = []\n",
    "    for n_trials in sorted(iterator_df[\"after_n_evaluations\"].unique()):\n",
    "        if n_trials == 1:\n",
    "            relevant_df = iterator_df[iterator_df[\"after_n_evaluations\"] == n_trials]\n",
    "            after_n_evaluations = n_trials\n",
    "            after_runtime = relevant_df[\"after_runtime\"].max()\n",
    "            after_virtual_runtime = relevant_df[\"after_virtual_runtime\"].max()\n",
    "            after_reasoning_runtime = relevant_df[\"after_reasoning_runtime\"].max()\n",
    "            avg_performance = relevant_df[\"performance\"].mean()\n",
    "            std_performance = relevant_df[\"performance\"].std()\n",
    "            percentile_upper = np.percentile(relevant_df[\"performance\"], 95)\n",
    "            percentile_lower = np.percentile(relevant_df[\"performance\"], 5)\n",
    "            rows.append([after_n_evaluations, after_runtime, after_virtual_runtime, after_reasoning_runtime, avg_performance, std_performance, percentile_upper, percentile_lower])\n",
    "        else:\n",
    "            # Find row of last incumbent for each of the experiment_ids\n",
    "            last_incumbent_rows = []\n",
    "            for experiment_id in iterator_df[\"experiment_id\"].unique():\n",
    "                last = find_last(iterator_df, experiment_id, x_axis_column, n_trials)\n",
    "                last_incumbent_rows.append(last)\n",
    "            last_incumbent_df = pd.concat(last_incumbent_rows)\n",
    "            after_n_evaluations = n_trials\n",
    "            after_runtime = last_incumbent_df[\"after_runtime\"].max()\n",
    "            after_virtual_runtime = last_incumbent_df[\"after_virtual_runtime\"].max()\n",
    "            after_reasoning_runtime = last_incumbent_df[\"after_reasoning_runtime\"].max()\n",
    "            avg_performance = last_incumbent_df[\"performance\"].mean()\n",
    "            std_performance = last_incumbent_df[\"performance\"].std()\n",
    "            percentile_upper = np.percentile(last_incumbent_df[\"performance\"], 95)\n",
    "            percentile_lower = np.percentile(last_incumbent_df[\"performance\"], 5)\n",
    "            rows.append([after_n_evaluations, after_runtime, after_virtual_runtime, after_reasoning_runtime, avg_performance, std_performance, percentile_upper, percentile_lower])\n",
    "\n",
    "    new_df = pd.DataFrame(\n",
    "        rows, columns=[\"after_n_evaluations\", \"after_runtime\", \"after_virtual_runtime\", \"after_reasoning_runtime\", \"avg_performance\", \"std_performance\", \"percentile_upper\", \"percentile_lower\"]\n",
    "    )\n",
    "    return new_df"
   ]
  },
  {
   "cell_type": "code",
   "execution_count": 8,
   "metadata": {},
   "outputs": [],
   "source": [
    "def get_priors(priors_df: pd.DataFrame):\n",
    "    prior_priors_df = pd.DataFrame(columns=[\"n_trials\", \"avg_performance\", \"percentile_upper\", \"percentile_lower\"])\n",
    "    priors = []\n",
    "    for n_trials in sorted(priors_df[\"after_n_evaluations\"].unique()):\n",
    "        relevant_df = priors_df[priors_df[\"after_n_evaluations\"] == n_trials]\n",
    "        avg_performance = relevant_df[\"performance\"].mean()\n",
    "        percentile_upper = np.percentile(relevant_df[\"performance\"], 95)\n",
    "        percentile_lower = np.percentile(relevant_df[\"performance\"], 5)\n",
    "        priors.append([n_trials, avg_performance, percentile_upper, percentile_lower])\n",
    "    prior_priors_df = pd.DataFrame(priors, columns=[\"n_trials\", \"avg_performance\", \"percentile_upper\", \"percentile_lower\"])\n",
    "    return prior_priors_df"
   ]
  },
  {
   "cell_type": "code",
   "execution_count": 9,
   "metadata": {},
   "outputs": [],
   "source": [
    "new_df_baseline = fill_df(baseline_incumbent_df)\n",
    "new_df_prior = fill_df(prior_incumbent_df)\n",
    "prior_priors_df = get_priors(prior_priors_df)"
   ]
  },
  {
   "cell_type": "code",
   "execution_count": 10,
   "metadata": {},
   "outputs": [
    {
     "data": {
      "text/plain": [
       "<matplotlib.collections.FillBetweenPolyCollection at 0x150893220850>"
      ]
     },
     "execution_count": 10,
     "metadata": {},
     "output_type": "execute_result"
    },
    {
     "data": {
      "image/png": "[encoded data removed]",
      "text/plain": [
       "<Figure size 640x480 with 1 Axes>"
      ]
     },
     "metadata": {},
     "output_type": "display_data"
    }
   ],
   "source": [
    "plt.step(new_df_baseline[\"after_n_evaluations\"], new_df_baseline[\"avg_performance\"], where=\"post\", label=\"Baseline\")\n",
    "plt.fill_between(new_df_baseline[\"after_n_evaluations\"], new_df_baseline[\"percentile_lower\"], new_df_baseline[\"percentile_upper\"], alpha=0.2)\n",
    "plt.step(new_df_prior[\"after_n_evaluations\"], new_df_prior[\"avg_performance\"], where=\"post\", label=\"Prior\")\n",
    "plt.fill_between(new_df_prior[\"after_n_evaluations\"], new_df_prior[\"percentile_lower\"], new_df_prior[\"percentile_upper\"], alpha=0.2)\n",
    "plt.scatter(prior_priors_df[\"n_trials\"], prior_priors_df[\"avg_performance\"], label=\"Priors\", color=\"red\")\n",
    "plt.fill_between(prior_priors_df[\"n_trials\"], prior_priors_df[\"percentile_lower\"], prior_priors_df[\"percentile_upper\"], alpha=0.2, color=\"red\")"
   ]
  },
  {
   "cell_type": "code",
   "execution_count": null,
   "metadata": {},
   "outputs": [],
   "source": []
  }
 ],
 "metadata": {
  "kernelspec": {
   "display_name": "DynaBO",
   "language": "python",
   "name": "python3"
  },
  "language_info": {
   "codemirror_mode": {
    "name": "ipython",
    "version": 3
   },
   "file_extension": ".py",
   "mimetype": "text/x-python",
   "name": "python",
   "nbconvert_exporter": "python",
   "pygments_lexer": "ipython3",
   "version": "3.10.16"
  }
 },
 "nbformat": 4,
 "nbformat_minor": 2
}
