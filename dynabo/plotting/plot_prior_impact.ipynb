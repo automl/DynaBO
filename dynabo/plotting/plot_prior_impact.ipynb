{
 "cells": [
  {
   "cell_type": "markdown",
   "id": "66626db4",
   "metadata": {},
   "source": [
    "# Create Ackley Function"
   ]
  },
  {
   "cell_type": "code",
   "execution_count": 1,
   "id": "b460ab13",
   "metadata": {},
   "outputs": [],
   "source": [
    "import os\n",
    "\n",
    "os.chdir(\"/Users/lukasfehring/Desktop/DynaBO\")"
   ]
  },
  {
   "cell_type": "code",
   "execution_count": 2,
   "id": "d905b0d2",
   "metadata": {},
   "outputs": [],
   "source": [
    "import numpy as np\n",
    "import matplotlib.pyplot as plt\n",
    "from deap.benchmarks import ackley\n",
    "import seaborn as sns\n",
    "from ConfigSpace import ConfigurationSpace, Configuration\n",
    "from ConfigSpace.hyperparameters import UniformFloatHyperparameter, NormalFloatHyperparameter\n",
    "\n",
    "from smac import HyperparameterOptimizationFacade, Scenario, BlackBoxFacade\n",
    "from smac.runhistory.dataclasses import TrialInfo, TrialValue\n",
    "from smac.utils.configspace import convert_configurations_to_array\n",
    "from dynabo.smac_additions.dynmaic_prior_acquisition_function import DynamicPriorAcquisitionFunction\n",
    "from dynabo.smac_additions.local_and_prior_search import LocalAndPriorSearch\n",
    "from smac.acquisition.function import EI\n",
    "from smac.main.smbo import SMBO"
   ]
  },
  {
   "cell_type": "code",
   "execution_count": 3,
   "id": "7609af6d",
   "metadata": {},
   "outputs": [],
   "source": [
    "def ackley_wrapper(trial_info: TrialInfo, x_values=None, seed=None) -> tuple[float]:\n",
    "    \"\"\"Wrapper for the Ackley function to handle input as a list or numpy array.\"\"\"\n",
    "    config: Configuration = trial_info.config\n",
    "    x = np.array([config[\"x1\"]])\n",
    "\n",
    "    trial_value = TrialValue(cost=ackley(x), time=0.0)\n",
    "    return trial_value"
   ]
  },
  {
   "cell_type": "markdown",
   "id": "ccbf7dd3",
   "metadata": {},
   "source": [
    "## Create Configuration Space"
   ]
  },
  {
   "cell_type": "code",
   "execution_count": 4,
   "id": "21bf0fe8",
   "metadata": {},
   "outputs": [],
   "source": [
    "configuration_space = ConfigurationSpace()\n",
    "configuration_space.add(UniformFloatHyperparameter(\"x1\", lower=-5, upper=5, default_value=0))"
   ]
  },
  {
   "cell_type": "markdown",
   "id": "db3a50ba",
   "metadata": {},
   "source": [
    "## Create SMAC"
   ]
  },
  {
   "cell_type": "code",
   "execution_count": 5,
   "id": "2cd04509",
   "metadata": {},
   "outputs": [],
   "source": [
    "def create_smac(\n",
    "    acquisition_function: str,\n",
    "):\n",
    "    # Scenerio\n",
    "    smac_scenario = Scenario(configspace=configuration_space, deterministic=True, seed=0, n_trials=50)\n",
    "\n",
    "    # Initial design\n",
    "    initial_design_size = 3\n",
    "    initial_design = HyperparameterOptimizationFacade.get_initial_design(scenario=smac_scenario, n_configs=initial_design_size)\n",
    "\n",
    "    intensifier = HyperparameterOptimizationFacade.get_intensifier(\n",
    "        scenario=smac_scenario,\n",
    "        max_config_calls=1,\n",
    "    )\n",
    "    if acquisition_function is None:\n",
    "        acquisition_function = EI()\n",
    "\n",
    "    surrogate_model = BlackBoxFacade.get_model(scenario=smac_scenario)\n",
    "    surrogate_model = None\n",
    "\n",
    "    local_and_prior_search = LocalAndPriorSearch(\n",
    "        configspace=configuration_space,\n",
    "        acquisition_function=acquisition_function,\n",
    "        max_steps=500,  # TODO wie viele local search steps sind reasonable?\n",
    "    )\n",
    "    smac = HyperparameterOptimizationFacade(\n",
    "        scenario=smac_scenario,\n",
    "        target_function=ackley_wrapper,\n",
    "        acquisition_function=acquisition_function,\n",
    "        initial_design=initial_design,\n",
    "        intensifier=intensifier,\n",
    "        overwrite=True,\n",
    "        acquisition_maximizer=local_and_prior_search,\n",
    "        model=surrogate_model,\n",
    "    )\n",
    "    return smac"
   ]
  },
  {
   "cell_type": "markdown",
   "id": "09688834",
   "metadata": {},
   "source": [
    "## Plot Layouts"
   ]
  },
  {
   "cell_type": "code",
   "execution_count": 6,
   "id": "993789c5",
   "metadata": {},
   "outputs": [],
   "source": [
    "def set_upper_layout(ax):\n",
    "    ax.set_ylabel(\"Cost\")\n",
    "    ax.set_xlabel(\"Hyperparameter\")\n",
    "    ax.set_title(\"Function to be Optimized\")\n",
    "    # Set x and y limits\n",
    "    ax.set_xlim(-5, 5)\n",
    "    return ax\n",
    "\n",
    "\n",
    "def set_lower_layout(ax):\n",
    "    ax.set_ylabel(\"Acquisition Value\")\n",
    "    ax.set_xlabel(\"Hyperparameter\")\n",
    "    ax.set_title(\"Acquisition Function\")\n",
    "    # Set x and y limits\n",
    "    ax.set_xlim(-5, 5)\n",
    "    ax.set_yscale(\"log\")\n",
    "    return ax"
   ]
  },
  {
   "cell_type": "code",
   "execution_count": 7,
   "id": "5044e23d",
   "metadata": {},
   "outputs": [],
   "source": [
    "def fit_surrogate_model(smac: HyperparameterOptimizationFacade, plotting_smac: HyperparameterOptimizationFacade):\n",
    "    plotting_trials = plotting_smac._runhistory_encoder._get_considered_trials()\n",
    "    plotting_configs = [plotting_smac.runhistory.get_config(trial_info.config_id) for trial_info in plotting_trials]\n",
    "    plotting_configs_array = convert_configurations_to_array(plotting_configs).squeeze()\n",
    "\n",
    "    plott_configs_values = [config[\"x1\"] for config in plotting_configs]\n",
    "\n",
    "    # Find x values of the configurations in plotting_trials\n",
    "    past_configs = []\n",
    "    past_configs_position = []\n",
    "    past_configs_costs = []\n",
    "    for trial_key, trial_value in smac._runhistory_encoder._get_considered_trials().items():\n",
    "        config = smac.runhistory.get_config(trial_key.config_id)\n",
    "        past_configs.append(config[\"x1\"])\n",
    "        array_config = convert_configurations_to_array([config])[0]\n",
    "        past_configs_position.append(np.argmin(np.abs(plotting_configs_array - array_config)))\n",
    "        past_configs_costs.append(trial_value.cost)\n",
    "\n",
    "    # Normalize all configs\n",
    "    plotting_trials_vectors_normalized, _ = plotting_smac._runhistory_encoder._build_matrix(plotting_trials, store_statistics=True)\n",
    "\n",
    "    past_configs_normalized = list()\n",
    "    for past_config_position in past_configs_position:\n",
    "        past_configs_normalized.append(plotting_trials_vectors_normalized[past_config_position])\n",
    "\n",
    "    # Predict mean and std for all x_values\n",
    "    past_configs_normalized = np.vstack(past_configs_normalized)\n",
    "    past_configs_costs = np.array(past_configs_costs)\n",
    "    model = smac._model\n",
    "    model = model.train(past_configs_normalized, past_configs_costs)\n",
    "    return model, plott_configs_values, plotting_trials_vectors_normalized, past_configs, past_configs_costs, plotting_configs\n",
    "\n",
    "\n",
    "def plot_smac_model_belief(ax, smac: HyperparameterOptimizationFacade, plotting_smac: HyperparameterOptimizationFacade):\n",
    "    model, plotting_configs_array, plotting_trials_vectors_normalized, past_configs, past_configs_costs, _ = fit_surrogate_model(smac, plotting_smac)\n",
    "\n",
    "    means, stds = model.predict(plotting_trials_vectors_normalized)\n",
    "    means = means.flatten()\n",
    "    stds = stds.flatten()\n",
    "    ax.plot(plotting_configs_array, means, label=\"Model Mean\", color=\"green\")\n",
    "    ax.fill_between(plotting_configs_array, means - stds, means + stds, color=\"green\", alpha=0.2)\n",
    "\n",
    "    ax.scatter(past_configs, past_configs_costs, color=\"red\", s=100, label=\"Evaluated Points\", zorder=5)\n",
    "\n",
    "\n",
    "def plot_acquisition_function(ax, smac: HyperparameterOptimizationFacade, plotting_smac: HyperparameterOptimizationFacade, pibo: bool, dynabo: bool):\n",
    "    acquisition_function = smac._acquisition_function\n",
    "    model = smac._model\n",
    "    if isinstance(acquisition_function, DynamicPriorAcquisitionFunction):\n",
    "        acquisition_function._acquisition_function.update(model=model, eta=0, num_data=smac.runhistory.finished)\n",
    "    acquisition_function.update(model=model, eta=0, num_data=smac.runhistory.finished)\n",
    "    model, plotting_configs_array, _, _, _, plotting_configs = fit_surrogate_model(smac, plotting_smac)\n",
    "\n",
    "    # Compute acquisition function values for all x_values\n",
    "\n",
    "    acquisition_function_values = acquisition_function(plotting_configs)\n",
    "    color = \"orange\" if pibo else \"red\"\n",
    "    label = \"PIBO Acquisition Function\" if pibo else \"Acquisition Function\"\n",
    "\n",
    "    ax.plot(plotting_configs_array, acquisition_function_values, label=label, color=color)\n",
    "    ax.legend()\n",
    "\n",
    "\n",
    "def plot_ackley_function(ax, x_values):\n",
    "    y_values = [ackley([x]) for x in x_values]\n",
    "    ax.plot(x_values, y_values, label=\"Ackley Function\", color=\"blue\")\n",
    "    return ax\n",
    "\n",
    "\n",
    "def create_plots(x_values, base_optimizer: HyperparameterOptimizationFacade, pibo_optimizer: HyperparameterOptimizationFacade, plotting_smac: HyperparameterOptimizationFacade = None):\n",
    "    # Plot ackley function\n",
    "    fix, axs = plt.subplots(2, 1, figsize=(15, 10))\n",
    "    sns.set_style(\"whitegrid\")\n",
    "\n",
    "    plot_ackley_function(axs[0], x_values)\n",
    "    if base_optimizer is not None:\n",
    "        plot_smac_model_belief(axs[0], base_optimizer, x_values, plotting_smac)\n",
    "\n",
    "        plot_acquisition_function(axs[1], base_optimizer, x_values, plotting_smac, pibo=False, dynabo=False)\n",
    "\n",
    "    if pibo_optimizer is not None:\n",
    "        plot_acquisition_function(axs[1], pibo_optimizer, x_values, plotting_smac, pibo=True, dynabo=False)\n",
    "\n",
    "    set_upper_layout(axs[0])\n",
    "    set_lower_layout(axs[1])"
   ]
  },
  {
   "cell_type": "code",
   "execution_count": 8,
   "id": "9a018d3d",
   "metadata": {},
   "outputs": [
    {
     "name": "stdout",
     "output_type": "stream",
     "text": [
      "[WARNING][target_function_runner.py:74] The argument x_values is not set by SMAC: Consider removing it from the target function.\n"
     ]
    },
    {
     "name": "stdout",
     "output_type": "stream",
     "text": [
      "[INFO][abstract_initial_design.py:139] Using 3 initial design configurations and 0 additional configurations.\n",
      "[INFO][abstract_initial_design.py:74] Using `n_configs` and ignoring `n_configs_per_hyperparameter`.\n",
      "[WARNING][target_function_runner.py:74] The argument x_values is not set by SMAC: Consider removing it from the target function.\n",
      "[INFO][abstract_initial_design.py:139] Using 3 initial design configurations and 0 additional configurations.\n",
      "[WARNING][prior_acquisition_function.py:110] Discretizing the prior for random forest models.\n",
      "[INFO][abstract_initial_design.py:74] Using `n_configs` and ignoring `n_configs_per_hyperparameter`.\n",
      "[WARNING][target_function_runner.py:74] The argument x_values is not set by SMAC: Consider removing it from the target function.\n",
      "[INFO][abstract_initial_design.py:139] Using 3 initial design configurations and 0 additional configurations.\n",
      "[WARNING][prior_acquisition_function.py:110] Discretizing the prior for random forest models.\n"
     ]
    }
   ],
   "source": [
    "def create_base_optimizer() -> HyperparameterOptimizationFacade:\n",
    "    base_optimizer = create_smac(acquisition_function=None)\n",
    "    return base_optimizer\n",
    "\n",
    "\n",
    "def create_prior_optimizer() -> HyperparameterOptimizationFacade:\n",
    "    acquisition_function = DynamicPriorAcquisitionFunction(EI(), initial_design_size=3, discretize=False)\n",
    "    return create_smac(acquisition_function)\n",
    "\n",
    "\n",
    "base_optimizer = create_base_optimizer()\n",
    "pibo_optimizer = create_prior_optimizer()\n",
    "dynabo_optimizer = create_prior_optimizer()"
   ]
  },
  {
   "cell_type": "code",
   "execution_count": 9,
   "id": "fa0c2593",
   "metadata": {},
   "outputs": [],
   "source": [
    "x_values = np.linspace(-5, 5, 1000)"
   ]
  },
  {
   "cell_type": "code",
   "execution_count": 10,
   "id": "e24871f8",
   "metadata": {},
   "outputs": [
    {
     "name": "stdout",
     "output_type": "stream",
     "text": [
      "[INFO][abstract_initial_design.py:74] Using `n_configs` and ignoring `n_configs_per_hyperparameter`.\n",
      "[WARNING][target_function_runner.py:74] The argument x_values is not set by SMAC: Consider removing it from the target function.\n",
      "[INFO][abstract_initial_design.py:139] Using 3 initial design configurations and 0 additional configurations.\n",
      "[INFO][abstract_intensifier.py:517] Added config abb45a as new incumbent because there are no incumbents yet.\n"
     ]
    }
   ],
   "source": [
    "plotting_smac = create_base_optimizer()\n",
    "# create configs for each x in x_values\n",
    "configs = [Configuration(configuration_space, values={\"x1\": x}) for x in x_values]\n",
    "# create TrialInfos, and TrialValues\n",
    "trial_infos = [TrialInfo(config=config, instance=None, seed=0) for config in configs]\n",
    "trial_values = [TrialValue(cost=-100, time=0.0) for trial_info in trial_infos]\n",
    "# Tell the smac object about these trials\n",
    "for ti, tv in zip(trial_infos, trial_values):\n",
    "    plotting_smac.tell(ti, tv)"
   ]
  },
  {
   "cell_type": "markdown",
   "id": "e968dd8b",
   "metadata": {},
   "source": [
    "## Initial Design"
   ]
  },
  {
   "cell_type": "code",
   "execution_count": 11,
   "id": "cd2ba8c4",
   "metadata": {},
   "outputs": [
    {
     "name": "stdout",
     "output_type": "stream",
     "text": [
      "[INFO][abstract_intensifier.py:307] Using only one seed for deterministic scenario.\n",
      "[INFO][abstract_intensifier.py:517] Added config 09be20 as new incumbent because there are no incumbents yet.\n",
      "[INFO][abstract_intensifier.py:596] Added config 6b7192 and rejected config 09be20 as incumbent because it is not better than the incumbents on 1 instances: \n",
      "[INFO][abstract_intensifier.py:307] Using only one seed for deterministic scenario.\n",
      "[INFO][abstract_intensifier.py:517] Added config 09be20 as new incumbent because there are no incumbents yet.\n",
      "[INFO][abstract_intensifier.py:596] Added config 6b7192 and rejected config 09be20 as incumbent because it is not better than the incumbents on 1 instances: \n",
      "[INFO][abstract_intensifier.py:307] Using only one seed for deterministic scenario.\n",
      "[INFO][abstract_intensifier.py:517] Added config 09be20 as new incumbent because there are no incumbents yet.\n",
      "[INFO][abstract_intensifier.py:596] Added config 6b7192 and rejected config 09be20 as incumbent because it is not better than the incumbents on 1 instances: \n"
     ]
    }
   ],
   "source": [
    "for _ in range(3):\n",
    "    info: TrialInfo = base_optimizer.ask()\n",
    "    trial_value = ackley_wrapper(info, x_values)\n",
    "    base_optimizer.tell(info, trial_value)\n",
    "for _ in range(3):\n",
    "    info: TrialInfo = pibo_optimizer.ask()\n",
    "    trial_value = ackley_wrapper(info, x_values)\n",
    "    pibo_optimizer.tell(info, trial_value)\n",
    "    pibo_optimizer._acquisition_function.current_config_nuber = pibo_optimizer.runhistory.finished\n",
    "for _ in range(3):\n",
    "    info: TrialInfo = dynabo_optimizer.ask()\n",
    "    trial_value = ackley_wrapper(info, x_values)\n",
    "    dynabo_optimizer.tell(info, trial_value)\n",
    "    pibo_optimizer._acquisition_function.current_config_nuber = pibo_optimizer.runhistory.finished"
   ]
  },
  {
   "cell_type": "code",
   "execution_count": 12,
   "id": "a1c7cd88",
   "metadata": {},
   "outputs": [],
   "source": [
    "def set_prior(smbo: SMBO, prior_configspace: ConfigurationSpace):\n",
    "    smbo.intensifier.config_selector._acquisition_maximizer.dynamic_init(prior_configspace)\n",
    "    smbo.intensifier.config_selector._acquisition_function.dynamic_init(\n",
    "        acquisition_function=smbo.intensifier.config_selector._acquisition_function._acquisition_function,\n",
    "        prior_configspace=prior_configspace,\n",
    "        decay_beta=50 / 10,\n",
    "        prior_start=smbo.runhistory.finished,\n",
    "    )"
   ]
  },
  {
   "cell_type": "code",
   "execution_count": 13,
   "id": "546533c9",
   "metadata": {},
   "outputs": [],
   "source": [
    "# Create priro configspace for the center which is x = 0\n",
    "new_configspace = ConfigurationSpace()\n",
    "new_configspace.add(NormalFloatHyperparameter(\"x1\", lower=-5, upper=5, default_value=0, mu=0, sigma=10))\n",
    "\n",
    "set_prior(pibo_optimizer, new_configspace)"
   ]
  },
  {
   "cell_type": "markdown",
   "id": "71e76dc0",
   "metadata": {},
   "source": [
    "## Plot with Optimizer"
   ]
  },
  {
   "cell_type": "code",
   "execution_count": 14,
   "id": "b3bafb27",
   "metadata": {},
   "outputs": [
    {
     "ename": "TypeError",
     "evalue": "plot_smac_model_belief() takes 3 positional arguments but 4 were given",
     "output_type": "error",
     "traceback": [
      "\u001b[0;31m---------------------------------------------------------------------------\u001b[0m",
      "\u001b[0;31mTypeError\u001b[0m                                 Traceback (most recent call last)",
      "Cell \u001b[0;32mIn[14], line 2\u001b[0m\n\u001b[1;32m      1\u001b[0m control_optimizer \u001b[38;5;241m=\u001b[39m pibo_optimizer\n\u001b[0;32m----> 2\u001b[0m \u001b[43mcreate_plots\u001b[49m\u001b[43m(\u001b[49m\u001b[43mx_values\u001b[49m\u001b[43m,\u001b[49m\u001b[43m \u001b[49m\u001b[43mbase_optimizer\u001b[49m\u001b[43m,\u001b[49m\u001b[43m \u001b[49m\u001b[43mpibo_optimizer\u001b[49m\u001b[43m,\u001b[49m\u001b[43m \u001b[49m\u001b[43mplotting_smac\u001b[49m\u001b[43m)\u001b[49m\n\u001b[1;32m      3\u001b[0m \u001b[38;5;28;01mfor\u001b[39;00m trial_key \u001b[38;5;129;01min\u001b[39;00m \u001b[38;5;28mrange\u001b[39m(\u001b[38;5;241m5\u001b[39m):\n\u001b[1;32m      4\u001b[0m     info: TrialInfo \u001b[38;5;241m=\u001b[39m control_optimizer\u001b[38;5;241m.\u001b[39mask()\n",
      "Cell \u001b[0;32mIn[7], line 77\u001b[0m, in \u001b[0;36mcreate_plots\u001b[0;34m(x_values, base_optimizer, pibo_optimizer, plotting_smac)\u001b[0m\n\u001b[1;32m     75\u001b[0m plot_ackley_function(axs[\u001b[38;5;241m0\u001b[39m], x_values)\n\u001b[1;32m     76\u001b[0m \u001b[38;5;28;01mif\u001b[39;00m base_optimizer \u001b[38;5;129;01mis\u001b[39;00m \u001b[38;5;129;01mnot\u001b[39;00m \u001b[38;5;28;01mNone\u001b[39;00m:\n\u001b[0;32m---> 77\u001b[0m     \u001b[43mplot_smac_model_belief\u001b[49m\u001b[43m(\u001b[49m\u001b[43maxs\u001b[49m\u001b[43m[\u001b[49m\u001b[38;5;241;43m0\u001b[39;49m\u001b[43m]\u001b[49m\u001b[43m,\u001b[49m\u001b[43m \u001b[49m\u001b[43mbase_optimizer\u001b[49m\u001b[43m,\u001b[49m\u001b[43m \u001b[49m\u001b[43mx_values\u001b[49m\u001b[43m,\u001b[49m\u001b[43m \u001b[49m\u001b[43mplotting_smac\u001b[49m\u001b[43m)\u001b[49m\n\u001b[1;32m     79\u001b[0m     plot_acquisition_function(axs[\u001b[38;5;241m1\u001b[39m], base_optimizer, x_values, plotting_smac, pibo\u001b[38;5;241m=\u001b[39m\u001b[38;5;28;01mFalse\u001b[39;00m, dynabo\u001b[38;5;241m=\u001b[39m\u001b[38;5;28;01mFalse\u001b[39;00m)\n\u001b[1;32m     81\u001b[0m \u001b[38;5;28;01mif\u001b[39;00m pibo_optimizer \u001b[38;5;129;01mis\u001b[39;00m \u001b[38;5;129;01mnot\u001b[39;00m \u001b[38;5;28;01mNone\u001b[39;00m:\n",
      "\u001b[0;31mTypeError\u001b[0m: plot_smac_model_belief() takes 3 positional arguments but 4 were given"
     ]
    },
    {
     "data": {
      "image/png": "[encoded data removed]",
      "text/plain": [
       "<Figure size 1500x1000 with 2 Axes>"
      ]
     },
     "metadata": {},
     "output_type": "display_data"
    }
   ],
   "source": [
    "control_optimizer = pibo_optimizer\n",
    "create_plots(x_values, base_optimizer, pibo_optimizer, plotting_smac)\n",
    "for trial_key in range(5):\n",
    "    info: TrialInfo = control_optimizer.ask()\n",
    "    trial_value = ackley_wrapper(info, x_values)\n",
    "    base_optimizer.tell(info, trial_value)\n",
    "    pibo_optimizer.tell(info, trial_value)\n",
    "    print(info)\n",
    "\n",
    "    create_plots(x_values, base_optimizer, pibo_optimizer, plotting_smac)"
   ]
  },
  {
   "cell_type": "markdown",
   "id": "38748bc2",
   "metadata": {},
   "source": [
    "# TODOS\n",
    "1. Plot pibo acquisition function\n",
    "2. Plot dynabo acquisition function"
   ]
  },
  {
   "cell_type": "markdown",
   "id": "56aba1c8",
   "metadata": {},
   "source": []
  }
 ],
 "metadata": {
  "kernelspec": {
   "display_name": "dynabo",
   "language": "python",
   "name": "python3"
  },
  "language_info": {
   "codemirror_mode": {
    "name": "ipython",
    "version": 3
   },
   "file_extension": ".py",
   "mimetype": "text/x-python",
   "name": "python",
   "nbconvert_exporter": "python",
   "pygments_lexer": "ipython3",
   "version": "3.10.18"
  }
 },
 "nbformat": 4,
 "nbformat_minor": 5
}
